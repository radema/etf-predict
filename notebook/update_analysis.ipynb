{
 "cells": [
  {
   "cell_type": "code",
   "execution_count": 18,
   "metadata": {},
   "outputs": [],
   "source": [
    "from utils import *\n",
    "import pandas as pd\n",
    "import tqdm.notebook as tq\n",
    "import warnings\n",
    "warnings.filterwarnings(\"ignore\")\n",
    "import sys\n",
    "\n",
    "import logging\n",
    "\n",
    "logger = logging.getLogger('cmdstanpy')\n",
    "logger.addHandler(logging.NullHandler())\n",
    "logger.propagate = False\n",
    "logger.setLevel(logging.CRITICAL)"
   ]
  },
  {
   "cell_type": "code",
   "execution_count": 19,
   "metadata": {},
   "outputs": [],
   "source": [
    "def main(periods=30*3, show = True, save_fig = True):\n",
    "    data = ExtractData(TICKERS)\n",
    "    data.to_parquet('../data/tickers_source.parquet')\n",
    "    print('\\nData stored!')\n",
    "    \n",
    "    dfs = data.drop(columns='Adj Close', inplace=False).copy()\n",
    "    dfs = dfs.groupby('ticker')\n",
    "\n",
    "    for ticker, df in tq.tqdm(dfs):\n",
    "\n",
    "        print('\\nWorking on '+ticker)\n",
    "\n",
    "        data = TransformaData2Prophet(df)\n",
    "\n",
    "        m, data_frc = TrainProphetModel(data, ticker=ticker, periods=periods)\n",
    "\n",
    "        PlotResults(m, data_frc,ticker=ticker, report_folder='../data/report', save_fig = save_fig,show = show)\n",
    "\n",
    "        ModelPerformance(m).to_csv('../data/performance/'+ticker+'_model.csv')\n",
    "        print('\\n'+ticker+': DONE!')"
   ]
  },
  {
   "cell_type": "code",
   "execution_count": 20,
   "metadata": {},
   "outputs": [
    {
     "name": "stdout",
     "output_type": "stream",
     "text": [
      "\n",
      "Download the following tickers:\n",
      "\n",
      "VWCE.AS\n",
      "[*********************100%***********************]  1 of 1 completed\n",
      "\n",
      "LCWD.PA\n",
      "[*********************100%***********************]  1 of 1 completed\n",
      "\n",
      "EUNA.F\n",
      "[*********************100%***********************]  1 of 1 completed\n",
      "\n",
      "Data stored!\n"
     ]
    },
    {
     "data": {
      "application/vnd.jupyter.widget-view+json": {
       "model_id": "71620f77d89d49b8944fe0f68853ad5f",
       "version_major": 2,
       "version_minor": 0
      },
      "text/plain": [
       "  0%|          | 0/3 [00:00<?, ?it/s]"
      ]
     },
     "metadata": {},
     "output_type": "display_data"
    },
    {
     "name": "stderr",
     "output_type": "stream",
     "text": [
      "Changing country holidays from 'US' to 'IT'.\n"
     ]
    },
    {
     "name": "stdout",
     "output_type": "stream",
     "text": [
      "\n",
      "Working on EUNA.F\n"
     ]
    },
    {
     "ename": "TypeError",
     "evalue": "PlotResults() got an unexpected keyword argument 'save_fig'",
     "output_type": "error",
     "traceback": [
      "\u001b[0;31m---------------------------------------------------------------------------\u001b[0m",
      "\u001b[0;31mTypeError\u001b[0m                                 Traceback (most recent call last)",
      "Cell \u001b[0;32mIn[20], line 1\u001b[0m\n\u001b[0;32m----> 1\u001b[0m main(show\u001b[39m=\u001b[39;49m\u001b[39mTrue\u001b[39;49;00m, save_fig \u001b[39m=\u001b[39;49m \u001b[39mFalse\u001b[39;49;00m)\n",
      "Cell \u001b[0;32mIn[19], line 17\u001b[0m, in \u001b[0;36mmain\u001b[0;34m(periods, show, save_fig)\u001b[0m\n\u001b[1;32m     13\u001b[0m data \u001b[39m=\u001b[39m TransformaData2Prophet(df)\n\u001b[1;32m     15\u001b[0m m, data_frc \u001b[39m=\u001b[39m TrainProphetModel(data, ticker\u001b[39m=\u001b[39mticker, periods\u001b[39m=\u001b[39mperiods)\n\u001b[0;32m---> 17\u001b[0m PlotResults(m, data_frc,ticker\u001b[39m=\u001b[39;49mticker, report_folder\u001b[39m=\u001b[39;49m\u001b[39m'\u001b[39;49m\u001b[39m../data/report\u001b[39;49m\u001b[39m'\u001b[39;49m, save_fig \u001b[39m=\u001b[39;49m save_fig,show \u001b[39m=\u001b[39;49m show)\n\u001b[1;32m     19\u001b[0m ModelPerformance(m)\u001b[39m.\u001b[39mto_csv(\u001b[39m'\u001b[39m\u001b[39m../data/performance/\u001b[39m\u001b[39m'\u001b[39m\u001b[39m+\u001b[39mticker\u001b[39m+\u001b[39m\u001b[39m'\u001b[39m\u001b[39m_model.csv\u001b[39m\u001b[39m'\u001b[39m)\n\u001b[1;32m     20\u001b[0m \u001b[39mprint\u001b[39m(\u001b[39m'\u001b[39m\u001b[39m\\n\u001b[39;00m\u001b[39m'\u001b[39m\u001b[39m+\u001b[39mticker\u001b[39m+\u001b[39m\u001b[39m'\u001b[39m\u001b[39m: DONE!\u001b[39m\u001b[39m'\u001b[39m)\n",
      "\u001b[0;31mTypeError\u001b[0m: PlotResults() got an unexpected keyword argument 'save_fig'"
     ]
    }
   ],
   "source": [
    "main(show=True, save_fig = False)"
   ]
  },
  {
   "cell_type": "code",
   "execution_count": null,
   "metadata": {},
   "outputs": [],
   "source": []
  }
 ],
 "metadata": {
  "kernelspec": {
   "display_name": "etf_env",
   "language": "python",
   "name": "python3"
  },
  "language_info": {
   "codemirror_mode": {
    "name": "ipython",
    "version": 3
   },
   "file_extension": ".py",
   "mimetype": "text/x-python",
   "name": "python",
   "nbconvert_exporter": "python",
   "pygments_lexer": "ipython3",
   "version": "3.9.16"
  },
  "orig_nbformat": 4
 },
 "nbformat": 4,
 "nbformat_minor": 2
}
